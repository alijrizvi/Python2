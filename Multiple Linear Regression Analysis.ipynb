{
 "cells": [
  {
   "cell_type": "markdown",
   "id": "5511a639",
   "metadata": {},
   "source": [
    "# First Full (Guided by Simplilearn) Practice: Multiple Linear Regression"
   ]
  },
  {
   "cell_type": "markdown",
   "id": "65b8abfe",
   "metadata": {},
   "source": [
    "## Performing Profit Estimation for a Company based on Attributes like R&D Expenditure, Administration, Marketing Expenditure, American State of Location, and Profit "
   ]
  },
  {
   "cell_type": "code",
   "execution_count": 1,
   "id": "877d3157",
   "metadata": {},
   "outputs": [],
   "source": [
    "# Importing the Libraries\n",
    "import numpy as np\n",
    "import pandas as pd\n",
    "import matplotlib.pyplot as plt\n",
    "import seaborn as sns"
   ]
  },
  {
   "cell_type": "code",
   "execution_count": 2,
   "id": "da07d80e",
   "metadata": {},
   "outputs": [],
   "source": [
    "pd.set_option('display.max_rows', 20)"
   ]
  },
  {
   "cell_type": "code",
   "execution_count": 3,
   "id": "ffb5598d",
   "metadata": {
    "scrolled": true
   },
   "outputs": [
    {
     "data": {
      "text/html": [
       "<div>\n",
       "<style scoped>\n",
       "    .dataframe tbody tr th:only-of-type {\n",
       "        vertical-align: middle;\n",
       "    }\n",
       "\n",
       "    .dataframe tbody tr th {\n",
       "        vertical-align: top;\n",
       "    }\n",
       "\n",
       "    .dataframe thead th {\n",
       "        text-align: right;\n",
       "    }\n",
       "</style>\n",
       "<table border=\"1\" class=\"dataframe\">\n",
       "  <thead>\n",
       "    <tr style=\"text-align: right;\">\n",
       "      <th></th>\n",
       "      <th>R&amp;D Spend</th>\n",
       "      <th>Administration</th>\n",
       "      <th>Marketing Spend</th>\n",
       "      <th>State</th>\n",
       "      <th>Profit</th>\n",
       "    </tr>\n",
       "  </thead>\n",
       "  <tbody>\n",
       "    <tr>\n",
       "      <th>0</th>\n",
       "      <td>165349.20</td>\n",
       "      <td>136897.80</td>\n",
       "      <td>471784.10</td>\n",
       "      <td>New York</td>\n",
       "      <td>192261.83</td>\n",
       "    </tr>\n",
       "    <tr>\n",
       "      <th>1</th>\n",
       "      <td>162597.70</td>\n",
       "      <td>151377.59</td>\n",
       "      <td>443898.53</td>\n",
       "      <td>California</td>\n",
       "      <td>191792.06</td>\n",
       "    </tr>\n",
       "    <tr>\n",
       "      <th>2</th>\n",
       "      <td>153441.51</td>\n",
       "      <td>101145.55</td>\n",
       "      <td>407934.54</td>\n",
       "      <td>Florida</td>\n",
       "      <td>191050.39</td>\n",
       "    </tr>\n",
       "    <tr>\n",
       "      <th>3</th>\n",
       "      <td>144372.41</td>\n",
       "      <td>118671.85</td>\n",
       "      <td>383199.62</td>\n",
       "      <td>New York</td>\n",
       "      <td>182901.99</td>\n",
       "    </tr>\n",
       "    <tr>\n",
       "      <th>4</th>\n",
       "      <td>142107.34</td>\n",
       "      <td>91391.77</td>\n",
       "      <td>366168.42</td>\n",
       "      <td>Florida</td>\n",
       "      <td>166187.94</td>\n",
       "    </tr>\n",
       "    <tr>\n",
       "      <th>5</th>\n",
       "      <td>131876.90</td>\n",
       "      <td>99814.71</td>\n",
       "      <td>362861.36</td>\n",
       "      <td>New York</td>\n",
       "      <td>156991.12</td>\n",
       "    </tr>\n",
       "    <tr>\n",
       "      <th>6</th>\n",
       "      <td>134615.46</td>\n",
       "      <td>147198.87</td>\n",
       "      <td>127716.82</td>\n",
       "      <td>California</td>\n",
       "      <td>156122.51</td>\n",
       "    </tr>\n",
       "    <tr>\n",
       "      <th>7</th>\n",
       "      <td>130298.13</td>\n",
       "      <td>145530.06</td>\n",
       "      <td>323876.68</td>\n",
       "      <td>Florida</td>\n",
       "      <td>155752.60</td>\n",
       "    </tr>\n",
       "    <tr>\n",
       "      <th>8</th>\n",
       "      <td>120542.52</td>\n",
       "      <td>148718.95</td>\n",
       "      <td>311613.29</td>\n",
       "      <td>New York</td>\n",
       "      <td>152211.77</td>\n",
       "    </tr>\n",
       "    <tr>\n",
       "      <th>9</th>\n",
       "      <td>123334.88</td>\n",
       "      <td>108679.17</td>\n",
       "      <td>304981.62</td>\n",
       "      <td>California</td>\n",
       "      <td>149759.96</td>\n",
       "    </tr>\n",
       "    <tr>\n",
       "      <th>10</th>\n",
       "      <td>101913.08</td>\n",
       "      <td>110594.11</td>\n",
       "      <td>229160.95</td>\n",
       "      <td>Florida</td>\n",
       "      <td>146121.95</td>\n",
       "    </tr>\n",
       "    <tr>\n",
       "      <th>11</th>\n",
       "      <td>100671.96</td>\n",
       "      <td>91790.61</td>\n",
       "      <td>249744.55</td>\n",
       "      <td>California</td>\n",
       "      <td>144259.40</td>\n",
       "    </tr>\n",
       "    <tr>\n",
       "      <th>12</th>\n",
       "      <td>93863.75</td>\n",
       "      <td>127320.38</td>\n",
       "      <td>249839.44</td>\n",
       "      <td>Florida</td>\n",
       "      <td>141585.52</td>\n",
       "    </tr>\n",
       "    <tr>\n",
       "      <th>13</th>\n",
       "      <td>91992.39</td>\n",
       "      <td>135495.07</td>\n",
       "      <td>252664.93</td>\n",
       "      <td>California</td>\n",
       "      <td>134307.35</td>\n",
       "    </tr>\n",
       "    <tr>\n",
       "      <th>14</th>\n",
       "      <td>119943.24</td>\n",
       "      <td>156547.42</td>\n",
       "      <td>256512.92</td>\n",
       "      <td>Florida</td>\n",
       "      <td>132602.65</td>\n",
       "    </tr>\n",
       "  </tbody>\n",
       "</table>\n",
       "</div>"
      ],
      "text/plain": [
       "    R&D Spend  Administration  Marketing Spend       State     Profit\n",
       "0   165349.20       136897.80        471784.10    New York  192261.83\n",
       "1   162597.70       151377.59        443898.53  California  191792.06\n",
       "2   153441.51       101145.55        407934.54     Florida  191050.39\n",
       "3   144372.41       118671.85        383199.62    New York  182901.99\n",
       "4   142107.34        91391.77        366168.42     Florida  166187.94\n",
       "5   131876.90        99814.71        362861.36    New York  156991.12\n",
       "6   134615.46       147198.87        127716.82  California  156122.51\n",
       "7   130298.13       145530.06        323876.68     Florida  155752.60\n",
       "8   120542.52       148718.95        311613.29    New York  152211.77\n",
       "9   123334.88       108679.17        304981.62  California  149759.96\n",
       "10  101913.08       110594.11        229160.95     Florida  146121.95\n",
       "11  100671.96        91790.61        249744.55  California  144259.40\n",
       "12   93863.75       127320.38        249839.44     Florida  141585.52\n",
       "13   91992.39       135495.07        252664.93  California  134307.35\n",
       "14  119943.24       156547.42        256512.92     Florida  132602.65"
      ]
     },
     "execution_count": 3,
     "metadata": {},
     "output_type": "execute_result"
    }
   ],
   "source": [
    "# Importing the Dataset\n",
    "comp = pd.read_csv(r\"C:\\Users\\ali.rizvi\\Downloads\\1000_Companies.csv\")\n",
    "\n",
    "# Identifying, both, the Independent & the Dependent Variables\n",
    "\n",
    "## Extracting Data for our Independent Variable\n",
    "X = comp.iloc[:, :-1].values ### The first \":\" is for Rows; in this case, it states it to take Every Row in - the second \":\" is for Columns; in this case, it states it to take Every Column BESIDES the Last one, in & Set the Values in there\n",
    "\n",
    "## Extracting Data for our Dependent Variable\n",
    "y = comp.iloc[:, 4].values ### Setting \"y\" Equal to our Last Row\n",
    "\n",
    "comp.head(15)"
   ]
  },
  {
   "cell_type": "code",
   "execution_count": 4,
   "id": "1210da45",
   "metadata": {
    "scrolled": true
   },
   "outputs": [
    {
     "data": {
      "text/plain": [
       "R&D Spend          float64\n",
       "Administration     float64\n",
       "Marketing Spend    float64\n",
       "State               object\n",
       "Profit             float64\n",
       "dtype: object"
      ]
     },
     "execution_count": 4,
     "metadata": {},
     "output_type": "execute_result"
    }
   ],
   "source": [
    "comp.dtypes"
   ]
  },
  {
   "cell_type": "code",
   "execution_count": 5,
   "id": "b0de1c27",
   "metadata": {},
   "outputs": [
    {
     "data": {
      "text/plain": [
       "Index(['R&D Spend', 'Administration', 'Marketing Spend', 'State', 'Profit'], dtype='object')"
      ]
     },
     "execution_count": 5,
     "metadata": {},
     "output_type": "execute_result"
    }
   ],
   "source": [
    "comp.columns"
   ]
  },
  {
   "cell_type": "code",
   "execution_count": 6,
   "id": "19b36d95",
   "metadata": {},
   "outputs": [
    {
     "data": {
      "text/plain": [
       "<Axes: >"
      ]
     },
     "execution_count": 6,
     "metadata": {},
     "output_type": "execute_result"
    },
    {
     "data": {
      "image/png": "[encoded data removed]",
      "text/plain": [
       "<Figure size 640x480 with 2 Axes>"
      ]
     },
     "metadata": {},
     "output_type": "display_data"
    }
   ],
   "source": [
    "# Making a Correlation Heatmap to Visualize Correlations Between Different Measures\n",
    "sns.heatmap(comp[['R&D Spend', 'Administration', 'Marketing Spend',  'Profit']].corr())"
   ]
  },
  {
   "cell_type": "code",
   "execution_count": 7,
   "id": "59f82bd5",
   "metadata": {},
   "outputs": [
    {
     "name": "stdout",
     "output_type": "stream",
     "text": [
      "[[0.0 0.0 1.0 165349.2 136897.8 471784.1]\n",
      " [1.0 0.0 0.0 162597.7 151377.59 443898.53]\n",
      " [0.0 1.0 0.0 153441.51 101145.55 407934.54]\n",
      " ...\n",
      " [1.0 0.0 0.0 100275.47 241926.31 227142.82]\n",
      " [1.0 0.0 0.0 128456.23 321652.14 281692.32]\n",
      " [0.0 0.0 1.0 161181.72 270939.86 295442.17]]\n"
     ]
    }
   ],
   "source": [
    "# Encoding Categorical Data with Numeric Values\n",
    "# The Regression Model Needs Numeric Values to Calculate Results\n",
    "\n",
    "from sklearn.preprocessing import LabelEncoder, OneHotEncoder\n",
    "from sklearn.compose import ColumnTransformer\n",
    "from sklearn.preprocessing import OneHotEncoder\n",
    "labelencoder = LabelEncoder() ## To Use the LabelEncoder, Creating a Variable \"labelencoder\" so that we can Create a Class that we can Reuse to Transfer the Labels back and forth\n",
    "\n",
    "X[:, 3] = labelencoder.fit_transform(X[:, 3]) ## The \":,\" part in \"X[:, 3]\" means that we are taking all Rows, but that we are ONLY editing the 4th (\"3]\") Column (3rd in the Index)\n",
    "## After Specifying the Amount of Rows and Columns, and/or Which Column to Take and TRANSFORM^, we fit the Label Encoder to Transform that Column's Values to Numeric Values\n",
    "##^ In this case, the 3rd column, \"State\", will have its values transformed into Numeric values - e.g., \"New York\" will become \"1\", \"California\" will become \"2\", etc.\n",
    "\n",
    "## This upcoming, Final Transformation Prepares Our Data so that it is Set & Ready as Just a Row of Numbers\n",
    "# Assuming X is your feature matrix and column index 3 contains the categorical feature\n",
    "column_transformer = ColumnTransformer(\n",
    "    transformers=[('encoder', OneHotEncoder(), [3])],  ## Specifying the Transformer and the Column Index(es); in this case; \"3\" for 'State'],\n",
    "    remainder='passthrough')  ## Keep the remaining columns unchanged)\n",
    "X = column_transformer.fit_transform(X)\n",
    "\n",
    "print(X) # Now, all Columns have only Numeric Values"
   ]
  },
  {
   "cell_type": "code",
   "execution_count": 8,
   "id": "8b7387f5",
   "metadata": {},
   "outputs": [],
   "source": [
    "# The Encoder^ Actually Created 2 columns: It kept the Original Categorical Column and Created a New One for it with Numeric Values\n",
    "# We Need to Get Rid of the Categorical One to \"Avoid the 'Dummy Variable Trap'\"\n",
    "\n",
    "X = X[:, 1:] ## This Removes the One Extra Column we Created When we Implemented Our OneHotEncoder & our LabelEncoder"
   ]
  },
  {
   "cell_type": "markdown",
   "id": "19d37d3f",
   "metadata": {},
   "source": [
    "### Finally, Creating my Linear Regression Model"
   ]
  },
  {
   "cell_type": "code",
   "execution_count": 9,
   "id": "0fd44b4e",
   "metadata": {},
   "outputs": [],
   "source": [
    "# Firstly, Split the Dataset into the \"Training Set\" & the \"Test Set\"\n",
    "from sklearn.model_selection import train_test_split\n",
    "\n",
    "## Whenever we Create a Predictive Data Model, we should Split it up into a Training Set & a Testing Set\n",
    "X_train, X_test, y_train, y_test = train_test_split(X, y, test_size = 0.2, random_state = 0)\n",
    "\n",
    "##^ \"test_size = 0.2\" means 20% of the Rows will be Held & Tested\n",
    "## \"y\" is the \"Profit\" or the Answer we Want"
   ]
  },
  {
   "cell_type": "code",
   "execution_count": 10,
   "id": "9049001d",
   "metadata": {},
   "outputs": [
    {
     "data": {
      "text/html": [
       "<style>#sk-container-id-1 {color: black;}#sk-container-id-1 pre{padding: 0;}#sk-container-id-1 div.sk-toggleable {background-color: white;}#sk-container-id-1 label.sk-toggleable__label {cursor: pointer;display: block;width: 100%;margin-bottom: 0;padding: 0.3em;box-sizing: border-box;text-align: center;}#sk-container-id-1 label.sk-toggleable__label-arrow:before {content: \"▸\";float: left;margin-right: 0.25em;color: #696969;}#sk-container-id-1 label.sk-toggleable__label-arrow:hover:before {color: black;}#sk-container-id-1 div.sk-estimator:hover label.sk-toggleable__label-arrow:before {color: black;}#sk-container-id-1 div.sk-toggleable__content {max-height: 0;max-width: 0;overflow: hidden;text-align: left;background-color: #f0f8ff;}#sk-container-id-1 div.sk-toggleable__content pre {margin: 0.2em;color: black;border-radius: 0.25em;background-color: #f0f8ff;}#sk-container-id-1 input.sk-toggleable__control:checked~div.sk-toggleable__content {max-height: 200px;max-width: 100%;overflow: auto;}#sk-container-id-1 input.sk-toggleable__control:checked~label.sk-toggleable__label-arrow:before {content: \"▾\";}#sk-container-id-1 div.sk-estimator input.sk-toggleable__control:checked~label.sk-toggleable__label {background-color: #d4ebff;}#sk-container-id-1 div.sk-label input.sk-toggleable__control:checked~label.sk-toggleable__label {background-color: #d4ebff;}#sk-container-id-1 input.sk-hidden--visually {border: 0;clip: rect(1px 1px 1px 1px);clip: rect(1px, 1px, 1px, 1px);height: 1px;margin: -1px;overflow: hidden;padding: 0;position: absolute;width: 1px;}#sk-container-id-1 div.sk-estimator {font-family: monospace;background-color: #f0f8ff;border: 1px dotted black;border-radius: 0.25em;box-sizing: border-box;margin-bottom: 0.5em;}#sk-container-id-1 div.sk-estimator:hover {background-color: #d4ebff;}#sk-container-id-1 div.sk-parallel-item::after {content: \"\";width: 100%;border-bottom: 1px solid gray;flex-grow: 1;}#sk-container-id-1 div.sk-label:hover label.sk-toggleable__label {background-color: #d4ebff;}#sk-container-id-1 div.sk-serial::before {content: \"\";position: absolute;border-left: 1px solid gray;box-sizing: border-box;top: 0;bottom: 0;left: 50%;z-index: 0;}#sk-container-id-1 div.sk-serial {display: flex;flex-direction: column;align-items: center;background-color: white;padding-right: 0.2em;padding-left: 0.2em;position: relative;}#sk-container-id-1 div.sk-item {position: relative;z-index: 1;}#sk-container-id-1 div.sk-parallel {display: flex;align-items: stretch;justify-content: center;background-color: white;position: relative;}#sk-container-id-1 div.sk-item::before, #sk-container-id-1 div.sk-parallel-item::before {content: \"\";position: absolute;border-left: 1px solid gray;box-sizing: border-box;top: 0;bottom: 0;left: 50%;z-index: -1;}#sk-container-id-1 div.sk-parallel-item {display: flex;flex-direction: column;z-index: 1;position: relative;background-color: white;}#sk-container-id-1 div.sk-parallel-item:first-child::after {align-self: flex-end;width: 50%;}#sk-container-id-1 div.sk-parallel-item:last-child::after {align-self: flex-start;width: 50%;}#sk-container-id-1 div.sk-parallel-item:only-child::after {width: 0;}#sk-container-id-1 div.sk-dashed-wrapped {border: 1px dashed gray;margin: 0 0.4em 0.5em 0.4em;box-sizing: border-box;padding-bottom: 0.4em;background-color: white;}#sk-container-id-1 div.sk-label label {font-family: monospace;font-weight: bold;display: inline-block;line-height: 1.2em;}#sk-container-id-1 div.sk-label-container {text-align: center;}#sk-container-id-1 div.sk-container {/* jupyter's `normalize.less` sets `[hidden] { display: none; }` but bootstrap.min.css set `[hidden] { display: none !important; }` so we also need the `!important` here to be able to override the default hidden behavior on the sphinx rendered scikit-learn.org. See: https://github.com/scikit-learn/scikit-learn/issues/21755 */display: inline-block !important;position: relative;}#sk-container-id-1 div.sk-text-repr-fallback {display: none;}</style><div id=\"sk-container-id-1\" class=\"sk-top-container\"><div class=\"sk-text-repr-fallback\"><pre>LinearRegression()</pre><b>In a Jupyter environment, please rerun this cell to show the HTML representation or trust the notebook. <br />On GitHub, the HTML representation is unable to render, please try loading this page with nbviewer.org.</b></div><div class=\"sk-container\" hidden><div class=\"sk-item\"><div class=\"sk-estimator sk-toggleable\"><input class=\"sk-toggleable__control sk-hidden--visually\" id=\"sk-estimator-id-1\" type=\"checkbox\" checked><label for=\"sk-estimator-id-1\" class=\"sk-toggleable__label sk-toggleable__label-arrow\">LinearRegression</label><div class=\"sk-toggleable__content\"><pre>LinearRegression()</pre></div></div></div></div></div>"
      ],
      "text/plain": [
       "LinearRegression()"
      ]
     },
     "execution_count": 10,
     "metadata": {},
     "output_type": "execute_result"
    }
   ],
   "source": [
    "# Fitting a Multiple Linear Regression Model to the Training Set\n",
    "from sklearn.linear_model import LinearRegression\n",
    "\n",
    "regressor = LinearRegression()\n",
    "regressor.fit(X_train, y_train)"
   ]
  },
  {
   "cell_type": "markdown",
   "id": "67c8d3d6",
   "metadata": {},
   "source": [
    "## Now that the Regressor Model has been Created, Let's Use it on the Test Dataset"
   ]
  },
  {
   "cell_type": "code",
   "execution_count": 11,
   "id": "15e27a42",
   "metadata": {},
   "outputs": [
    {
     "name": "stdout",
     "output_type": "stream",
     "text": [
      "[ 89790.61532915  88427.07187361  94894.67836972 175680.8672561\n",
      "  83411.73042089 110571.90200074 132145.2293644   91473.37719686\n",
      " 164597.05380606  53222.82667401  66950.19050989 150566.43987005\n",
      " 126915.20858596  59337.8597105  177513.91053061  75316.28143051\n",
      " 118248.14406603 164574.40699902 170937.2898107  182069.11645084\n",
      " 118845.03252689  85669.95112229 180992.59396143  84145.08220145\n",
      " 105005.83769214 101233.56772746  53831.07669091  56881.41475224\n",
      "  68896.39346905 210040.00765883 120778.72270894 111724.87157654\n",
      " 101487.90541518 137959.02649624  63969.95996743 108857.91214126\n",
      " 186014.72531988 171442.64130747 174644.26529205 117671.49128195\n",
      "  96731.37857433 165452.25779409 107724.34331255  50194.54176913\n",
      " 116513.89532179  58632.48986821 158416.4682761   78541.4852161\n",
      " 159727.66671743 131137.87699644 184880.70924516 174609.0826688\n",
      "  93745.66352059  78341.13383418 180745.9043908   84461.61490552\n",
      " 142900.90602903 170618.44098397  84365.09530839 105307.3716218\n",
      " 141660.07290786  52527.34340442 141842.9626416  139176.27973195\n",
      "  98294.52669666 113586.86790969 126754.21895489 152135.51985562\n",
      "  58864.51658955 174285.5736113  124624.04380783 169065.77658978\n",
      "  91279.33198209 156170.37268962  84307.26579366  77877.75223097\n",
      " 120414.02421346  93380.44273241 139020.62514121 143604.67103572\n",
      " 171148.30815368 140082.97050131 106369.71689747 155641.43851387\n",
      " 140030.10330037 110172.87893525  69672.98677565  88148.52068041\n",
      " 140133.59925093 148479.09537887 157916.63505257  58532.94863141\n",
      "  93707.3842239  112646.37475705  56556.1894366  107414.89996181\n",
      " 147352.80227752 152144.10104034 167808.11701784 118750.25230713\n",
      " 120763.27666701 139029.95295663 157527.90934119 121962.0621496\n",
      "  87091.32399737 104792.91384333  95335.22679185 178389.52287436\n",
      " 181942.63776381 109831.34945506 165254.03344096 167806.06491902\n",
      " 158002.44642543 174782.86900956 170196.77102699  52302.18161612\n",
      " 176938.11595789 104751.83583865  82710.31528805 138890.52767844\n",
      " 144274.74675425 161679.0183644  169662.05445895 120450.9231013\n",
      " 158880.70799546 110213.73252824 169674.51532366  60760.61300841\n",
      " 159036.99629068 158169.44286048 174511.70494475 156294.79927784\n",
      " 103714.37583212  85635.96237574 141603.54878757 165917.6915698\n",
      " 121182.03641977 170751.87883894 100505.77549411  82097.51033128\n",
      " 178643.18879843 101790.48384578  70507.40958622  90250.04230089\n",
      "  61247.4996268   68912.1753452   72775.81613476 176914.08873124\n",
      "  89704.69244931 129209.43730015  92672.90938383  88133.59175044\n",
      " 172836.33021618  60893.62070014 169015.8944601  166450.24453204\n",
      " 165425.54476415 102170.5169499  181594.57928216  73702.57942561\n",
      "  91267.42979668 135791.54160195  64922.802573    71775.70235726\n",
      "  60603.91401515 184288.61041915 176286.69585945 158907.75687039\n",
      " 141359.32216439 154611.17928321  58549.58863233  90618.58407899\n",
      " 152885.51163925 168398.05223805  72485.36274539 116064.24350667\n",
      "  80087.80697208 149828.90896188 116806.95957371 130191.48845161\n",
      " 174534.42670329 293584.45948283 146270.83174788 150646.69178014\n",
      "  86107.47782247  69967.20842246  70096.78368773  69033.69170769\n",
      " 120666.75708064  89677.68014064 166824.27091662 125514.76626409\n",
      "  67209.67687466 140930.69427702 118544.30490695 165897.61905906\n",
      " 168655.48652552 147009.66805049 141396.22104147 109086.50634849]\n"
     ]
    }
   ],
   "source": [
    "y_predict = regressor.predict(X_test)\n",
    "y_predict ## For the 20% of Variables set Aside for Model Testing Earlier^ (\"test_size = 0.2\"), It will Produce Answers or \"Predicted Results\"\n",
    "## These are the Predicted Profits for those 20% of Test independent variables\n",
    "print(y_predict)\n",
    "\n",
    "# Just for Aesthetics, I could also Convert the Object into a Pandas DataFrame & Look at the Values there\n",
    "## df = pd.DataFrame(y_predict)\n",
    "## df"
   ]
  },
  {
   "cell_type": "code",
   "execution_count": 12,
   "id": "7bfbe98a",
   "metadata": {},
   "outputs": [
    {
     "name": "stdout",
     "output_type": "stream",
     "text": [
      "[-8.80536598e+02 -6.98169073e+02  5.25845857e-01  8.44390881e-01\n",
      "  1.07574255e-01]\n",
      "-51035.2297240303\n"
     ]
    }
   ],
   "source": [
    "# Checking the Coefficient of the Predicted Regression Model, as well as the Y-Intercept\n",
    "\n",
    "## The Coefficients of Each of the Model's Test (Independent) variables\n",
    "print(regressor.coef_) ## The printed values are each Coefficients for All Columns in the Dataset, one by one for all Independent Variables\n",
    "\n",
    "## The Y-Intercept of the Model\n",
    "print(regressor.intercept_)"
   ]
  },
  {
   "cell_type": "code",
   "execution_count": 13,
   "id": "823dd3f0",
   "metadata": {},
   "outputs": [],
   "source": [
    "# Also Getting the Very Helpful R-Squared Value!\n",
    "from sklearn.metrics import r2_score\n",
    "rsquared_score = r2_score(y_test, y_predict) ## \"y_test\": the Actual Values I am Testing (the ones given to me & that I know are True), \"y_predict\": the Predicted Values we made in our Predictive Model, Earlier\n",
    "\n",
    "## The R-Squared Score turned out to be \"0.911\": 91.1% - Shows that mine is a very Valid Prediction; My Model is a Good Model\n",
    "##^ My predictions for the Company's Profits are going to be Correct about 91.1% of the Time"
   ]
  },
  {
   "cell_type": "code",
   "execution_count": 15,
   "id": "793c71f8",
   "metadata": {},
   "outputs": [
    {
     "data": {
      "image/png": "[encoded data removed]",
      "text/plain": [
       "<Figure size 640x480 with 1 Axes>"
      ]
     },
     "metadata": {},
     "output_type": "display_data"
    }
   ],
   "source": [
    "# Plotting the Actual VS Predicted values\n",
    "plt.scatter(y_test, y_predict, color='blue', label='Actual VS Predicted Values: Profit Estimation')\n",
    "\n",
    "# Plotting the Best-fit line\n",
    "plt.plot(y_test, y_test, color='green', label='Best-fit Line')\n",
    "\n",
    "# Adding labels and title\n",
    "plt.xlabel('Actual Values')\n",
    "plt.ylabel('Predicted Values')\n",
    "plt.title('Actual VS Predicted Values: Profit Estimation')\n",
    "\n",
    "# Adding a legend\n",
    "plt.legend(['Best-fit line (R-squared = {:.2f})'.format(rsquared_score), 'Actual VS Predicted']) ## The '{:.2f}'.format(r_squared) expression formats the R-squared score as a string with two decimal places ({:.2f}), converting the Numerical value of r_squared into a string before including it in the Legend label\n",
    "\n",
    "# Showing The Final Scatterplot with the Best-fit Line\n",
    "plt.show()"
   ]
  },
  {
   "cell_type": "code",
   "execution_count": null,
   "id": "6be35bce",
   "metadata": {},
   "outputs": [],
   "source": []
  }
 ],
 "metadata": {
  "kernelspec": {
   "display_name": "Python 3 (ipykernel)",
   "language": "python",
   "name": "python3"
  },
  "language_info": {
   "codemirror_mode": {
    "name": "ipython",
    "version": 3
   },
   "file_extension": ".py",
   "mimetype": "text/x-python",
   "name": "python",
   "nbconvert_exporter": "python",
   "pygments_lexer": "ipython3",
   "version": "3.11.5"
  }
 },
 "nbformat": 4,
 "nbformat_minor": 5
}
